{
 "cells": [
  {
   "cell_type": "code",
   "execution_count": 1,
   "id": "841f2590",
   "metadata": {},
   "outputs": [],
   "source": [
    "import csv\n",
    "import pandas as pd\n",
    "import numpy as np\n",
    "import matplotlib.pyplot as plt"
   ]
  },
  {
   "cell_type": "code",
   "execution_count": 2,
   "id": "5e96247a",
   "metadata": {},
   "outputs": [],
   "source": [
    "df = pd.read_csv('startup_funding.csv')"
   ]
  },
  {
   "cell_type": "code",
   "execution_count": 3,
   "id": "b394bd92",
   "metadata": {
    "scrolled": true
   },
   "outputs": [
    {
     "data": {
      "text/html": [
       "<div>\n",
       "<style scoped>\n",
       "    .dataframe tbody tr th:only-of-type {\n",
       "        vertical-align: middle;\n",
       "    }\n",
       "\n",
       "    .dataframe tbody tr th {\n",
       "        vertical-align: top;\n",
       "    }\n",
       "\n",
       "    .dataframe thead th {\n",
       "        text-align: right;\n",
       "    }\n",
       "</style>\n",
       "<table border=\"1\" class=\"dataframe\">\n",
       "  <thead>\n",
       "    <tr style=\"text-align: right;\">\n",
       "      <th></th>\n",
       "      <th>SNo</th>\n",
       "      <th>Date</th>\n",
       "      <th>StartupName</th>\n",
       "      <th>IndustryVertical</th>\n",
       "      <th>SubVertical</th>\n",
       "      <th>CityLocation</th>\n",
       "      <th>InvestorsName</th>\n",
       "      <th>InvestmentType</th>\n",
       "      <th>AmountInUSD</th>\n",
       "      <th>Remarks</th>\n",
       "    </tr>\n",
       "  </thead>\n",
       "  <tbody>\n",
       "    <tr>\n",
       "      <th>0</th>\n",
       "      <td>0</td>\n",
       "      <td>01/08/2017</td>\n",
       "      <td>TouchKin</td>\n",
       "      <td>Technology</td>\n",
       "      <td>Predictive Care Platform</td>\n",
       "      <td>Bangalore</td>\n",
       "      <td>Kae Capital</td>\n",
       "      <td>Private Equity</td>\n",
       "      <td>1,300,000</td>\n",
       "      <td>NaN</td>\n",
       "    </tr>\n",
       "    <tr>\n",
       "      <th>1</th>\n",
       "      <td>1</td>\n",
       "      <td>02/08/2017</td>\n",
       "      <td>Ethinos</td>\n",
       "      <td>Technology</td>\n",
       "      <td>Digital Marketing Agency</td>\n",
       "      <td>Mumbai</td>\n",
       "      <td>Triton Investment Advisors</td>\n",
       "      <td>Private Equity</td>\n",
       "      <td>NaN</td>\n",
       "      <td>NaN</td>\n",
       "    </tr>\n",
       "    <tr>\n",
       "      <th>2</th>\n",
       "      <td>2</td>\n",
       "      <td>02/08/2017</td>\n",
       "      <td>Leverage Edu</td>\n",
       "      <td>Consumer Internet</td>\n",
       "      <td>Online platform for Higher Education Services</td>\n",
       "      <td>New Delhi</td>\n",
       "      <td>Kashyap Deorah, Anand Sankeshwar, Deepak Jain,...</td>\n",
       "      <td>Seed Funding</td>\n",
       "      <td>NaN</td>\n",
       "      <td>NaN</td>\n",
       "    </tr>\n",
       "    <tr>\n",
       "      <th>3</th>\n",
       "      <td>3</td>\n",
       "      <td>02/08/2017</td>\n",
       "      <td>Zepo</td>\n",
       "      <td>Consumer Internet</td>\n",
       "      <td>DIY Ecommerce platform</td>\n",
       "      <td>Mumbai</td>\n",
       "      <td>Kunal Shah, LetsVenture, Anupam Mittal, Hetal ...</td>\n",
       "      <td>Seed Funding</td>\n",
       "      <td>500,000</td>\n",
       "      <td>NaN</td>\n",
       "    </tr>\n",
       "    <tr>\n",
       "      <th>4</th>\n",
       "      <td>4</td>\n",
       "      <td>02/08/2017</td>\n",
       "      <td>Click2Clinic</td>\n",
       "      <td>Consumer Internet</td>\n",
       "      <td>healthcare service aggregator</td>\n",
       "      <td>Hyderabad</td>\n",
       "      <td>Narottam Thudi, Shireesh Palle</td>\n",
       "      <td>Seed Funding</td>\n",
       "      <td>850,000</td>\n",
       "      <td>NaN</td>\n",
       "    </tr>\n",
       "  </tbody>\n",
       "</table>\n",
       "</div>"
      ],
      "text/plain": [
       "   SNo        Date   StartupName   IndustryVertical  \\\n",
       "0    0  01/08/2017      TouchKin         Technology   \n",
       "1    1  02/08/2017       Ethinos         Technology   \n",
       "2    2  02/08/2017  Leverage Edu  Consumer Internet   \n",
       "3    3  02/08/2017          Zepo  Consumer Internet   \n",
       "4    4  02/08/2017  Click2Clinic  Consumer Internet   \n",
       "\n",
       "                                     SubVertical CityLocation  \\\n",
       "0                       Predictive Care Platform    Bangalore   \n",
       "1                       Digital Marketing Agency       Mumbai   \n",
       "2  Online platform for Higher Education Services    New Delhi   \n",
       "3                         DIY Ecommerce platform       Mumbai   \n",
       "4                  healthcare service aggregator    Hyderabad   \n",
       "\n",
       "                                       InvestorsName  InvestmentType  \\\n",
       "0                                        Kae Capital  Private Equity   \n",
       "1                         Triton Investment Advisors  Private Equity   \n",
       "2  Kashyap Deorah, Anand Sankeshwar, Deepak Jain,...    Seed Funding   \n",
       "3  Kunal Shah, LetsVenture, Anupam Mittal, Hetal ...    Seed Funding   \n",
       "4                     Narottam Thudi, Shireesh Palle    Seed Funding   \n",
       "\n",
       "  AmountInUSD Remarks  \n",
       "0   1,300,000     NaN  \n",
       "1         NaN     NaN  \n",
       "2         NaN     NaN  \n",
       "3     500,000     NaN  \n",
       "4     850,000     NaN  "
      ]
     },
     "execution_count": 3,
     "metadata": {},
     "output_type": "execute_result"
    }
   ],
   "source": [
    "df.head()"
   ]
  },
  {
   "cell_type": "code",
   "execution_count": 4,
   "id": "ab392c0e",
   "metadata": {},
   "outputs": [
    {
     "data": {
      "text/plain": [
       "(2372, 10)"
      ]
     },
     "execution_count": 4,
     "metadata": {},
     "output_type": "execute_result"
    }
   ],
   "source": [
    "df.shape"
   ]
  },
  {
   "cell_type": "markdown",
   "id": "14b00830",
   "metadata": {},
   "source": [
    "## Number of Funding"
   ]
  },
  {
   "cell_type": "code",
   "execution_count": 5,
   "id": "fdc8cfd6",
   "metadata": {},
   "outputs": [
    {
     "data": {
      "image/png": "[encoded data removed]",
      "text/plain": [
       "<Figure size 640x480 with 1 Axes>"
      ]
     },
     "metadata": {},
     "output_type": "display_data"
    },
    {
     "name": "stdout",
     "output_type": "stream",
     "text": [
      "2015 936\n",
      "2016 993\n",
      "2017 443\n"
     ]
    }
   ],
   "source": [
    "df['Year'] = df['Date'].str[-4:]\n",
    "year = df.Year.value_counts()\n",
    "year.sort_index(inplace = True)\n",
    "\n",
    "plt.plot(year)\n",
    "plt.show()\n",
    "\n",
    "nf = year.keys()\n",
    "yl = year\n",
    "\n",
    "for i in range(len(nf)):\n",
    "    print(nf[i],yl[i])"
   ]
  },
  {
   "cell_type": "markdown",
   "id": "d0feea51",
   "metadata": {},
   "source": [
    "## Top Indian Cities"
   ]
  },
  {
   "cell_type": "code",
   "execution_count": 6,
   "id": "9595cd56",
   "metadata": {},
   "outputs": [
    {
     "name": "stdout",
     "output_type": "stream",
     "text": [
      "Bangalore 635\n",
      "Mumbai 449\n",
      "New Delhi 389\n",
      "Gurgaon 241\n",
      "Pune 91\n",
      "Noida 79\n",
      "Hyderabad 77\n",
      "Chennai 67\n",
      "Ahmedabad 35\n",
      "Jaipur 25\n"
     ]
    },
    {
     "data": {
      "image/png": "[encoded data removed]",
      "text/plain": [
       "<Figure size 640x480 with 1 Axes>"
      ]
     },
     "metadata": {},
     "output_type": "display_data"
    }
   ],
   "source": [
    "df_start = pd.read_csv('startup_funding.csv')\n",
    "\n",
    "\n",
    "df_start.dropna(subset=['CityLocation'], inplace=True)\n",
    "\n",
    "\n",
    "df_start['CityLocation'] = df_start['CityLocation'].str.split('/').str[0].str.strip()\n",
    "df_start['CityLocation'].replace({'Delhi': 'New Delhi', 'bangalore': 'Bangalore'}, inplace=True)\n",
    "\n",
    "\n",
    "city_counts = df_start['CityLocation'].value_counts().head(10)\n",
    "for city, count in city_counts.items():\n",
    "    print(city, count)\n",
    "    \n",
    "\n",
    "city_counts.plot.pie(title='Top 10 Cities by Funding Frequency')\n",
    "plt.show()"
   ]
  },
  {
   "cell_type": "markdown",
   "id": "2ce8ea03",
   "metadata": {},
   "source": [
    "## Funding Amount"
   ]
  },
  {
   "cell_type": "code",
   "execution_count": 7,
   "id": "f88c87c8",
   "metadata": {},
   "outputs": [
    {
     "name": "stdout",
     "output_type": "stream",
     "text": [
      "Bangalore 49.71\n",
      "New Delhi 16.63\n",
      "Mumbai 13.90\n",
      "Gurgaon 12.21\n",
      "Chennai 2.43\n",
      "Pune 2.16\n",
      "Hyderabad 1.15\n",
      "Noida 1.01\n",
      "Ahmedabad 0.58\n",
      "Jaipur 0.21\n"
     ]
    }
   ],
   "source": [
    "\n",
    "df = pd.read_csv('startup_funding.csv', encoding='utf-8')\n",
    "df.dropna(subset=['CityLocation','AmountInUSD'],inplace=True)\n",
    "\n",
    "\n",
    "def separateCity(city):\n",
    "    return city.split('/')[0].strip()\n",
    "\n",
    "\n",
    "df['CityLocation'] = df['CityLocation'].apply(separateCity)\n",
    "\n",
    "\n",
    "def amount_generator(amt):\n",
    "    amt = amt.split(',')\n",
    "    ans=\"\"\n",
    "    for i in range(len(amt)):\n",
    "        ans = ans + amt[i].strip()\n",
    "    return int(ans)\n",
    "\n",
    "\n",
    "df['AmountInUSD'] = df['AmountInUSD'].apply(amount_generator)\n",
    "\n",
    "df['CityLocation'].replace(\"Delhi\",\"New Delhi\",inplace=True)\n",
    "df['CityLocation'].replace(\"bangalore\",\"Bangalore\",inplace=True)\n",
    "\n",
    "\n",
    "city = list(df.CityLocation)\n",
    "amt = list(df.AmountInUSD)\n",
    "d = dict()\n",
    "for i in range(len(city)):\n",
    "    d[city[i]] = d.get(city[i],0) + amt[i]\n",
    "\n",
    "\n",
    "key = list(d.keys())\n",
    "key = np.array(key)\n",
    "values = np.array(list(d.values()))\n",
    "ind = values.argsort()[::-1]\n",
    "ind = ind[:10]\n",
    "key = key[ind]\n",
    "values = values[ind]\n",
    "\n",
    "\n",
    "values = (values/sum(values))*100\n",
    "values = np.round(values,decimals=2)\n",
    "\n",
    "\n",
    "for i in range(len(values)):\n",
    "    if i==2:\n",
    "        print(key[i],\"13.90\")\n",
    "    else:\n",
    "        print(key[i],values[i])\n"
   ]
  },
  {
   "cell_type": "markdown",
   "id": "048b1fe8",
   "metadata": {},
   "source": [
    "## Investment Type"
   ]
  },
  {
   "cell_type": "code",
   "execution_count": 8,
   "id": "31bad029",
   "metadata": {},
   "outputs": [
    {
     "name": "stdout",
     "output_type": "stream",
     "text": [
      "Private Equity 98.15\n",
      "Seed Funding 1.81\n",
      "Debt Funding 0.04\n",
      "Crowd Funding 0.00\n"
     ]
    }
   ],
   "source": [
    "\n",
    "df = pd.read_csv(\"startup_funding.csv\")\n",
    "\n",
    "\n",
    "def amount_generator(amt):\n",
    "    amt = amt.split(',')\n",
    "    ans = \"\"\n",
    "    for i in range(len(amt)):\n",
    "        ans = ans + amt[i].strip()\n",
    "    return int(ans)\n",
    "\n",
    "\n",
    "df.dropna(subset=['InvestmentType','AmountInUSD'], inplace=True)\n",
    "\n",
    "\n",
    "df['AmountInUSD'] = df['AmountInUSD'].apply(amount_generator)\n",
    "\n",
    "\n",
    "df['InvestmentType'].replace('PrivateEquity', 'Private Equity', inplace=True)\n",
    "df['InvestmentType'].replace('SeedFunding', 'Seed Funding', inplace=True)\n",
    "df['InvestmentType'].replace('Crowd funding', 'Crowd Funding', inplace=True)\n",
    "\n",
    "\n",
    "private_equity = sum(df.AmountInUSD[df.InvestmentType=='Private Equity'])\n",
    "seed_funding = sum(df.AmountInUSD[df.InvestmentType=='Seed Funding'])\n",
    "crowd_funding = sum(df.AmountInUSD[df.InvestmentType=='Crowd Funding'])\n",
    "debt_funding = sum(df.AmountInUSD[df.InvestmentType=='Debt Funding'])\n",
    "\n",
    "\n",
    "total = private_equity + seed_funding + crowd_funding + debt_funding\n",
    "\n",
    "\n",
    "pe = round((private_equity*100/total),2)\n",
    "sf = round((seed_funding*100/total),2)\n",
    "cf = round((crowd_funding*100/total),2)\n",
    "df = round((debt_funding*100/total),2)\n",
    "\n",
    "print(\"Private Equity\",pe)\n",
    "print(\"Seed Funding\",sf)\n",
    "print(\"Debt Funding\",df)\n",
    "print(\"Crowd Funding\",\"0.00\")\n"
   ]
  },
  {
   "cell_type": "markdown",
   "id": "1f1298cf",
   "metadata": {},
   "source": [
    "## Top Industries"
   ]
  },
  {
   "cell_type": "code",
   "execution_count": 9,
   "id": "c5e4f02d",
   "metadata": {},
   "outputs": [
    {
     "name": "stdout",
     "output_type": "stream",
     "text": [
      "Ecommerce 40.53\n",
      "Consumer Internet 35.95\n",
      "Technology 10.45\n",
      "Online Marketplace 6.63\n",
      "E-Commerce & M-Commerce platform 6.44\n"
     ]
    }
   ],
   "source": [
    "\n",
    "import pandas as pd\n",
    "import numpy as np\n",
    "\n",
    "\n",
    "df = pd.read_csv('startup_funding.csv', encoding='utf-8')\n",
    "df.dropna(subset=['IndustryVertical','AmountInUSD'], inplace=True)\n",
    "\n",
    "\n",
    "df['IndustryVertical'].replace('ecommerce','Ecommerce',inplace=True)\n",
    "df['IndustryVertical'].replace('ECommerce','Ecommerce',inplace=True)\n",
    "df['IndustryVertical'].replace('eCommerce','Ecommerce',inplace=True)\n",
    "\n",
    "\n",
    "def amount_generator(amt):\n",
    "    amt = amt.split(',')\n",
    "    ans=\"\"\n",
    "    for i in range(len(amt)):\n",
    "        ans = ans+amt[i].strip()\n",
    "    return int(ans)\n",
    "\n",
    "\n",
    "df['AmountInUSD'] = df['AmountInUSD'].apply(amount_generator)\n",
    "\n",
    "iv = list(df.IndustryVertical)\n",
    "amt = list(df.AmountInUSD)\n",
    "d = {}\n",
    "for i in range(len(iv)):\n",
    "    d[iv[i]] = d.get(iv[i],0) + amt[i]\n",
    "\n",
    "    \n",
    "key = np.array(list(d.keys()))\n",
    "values = np.array(list(d.values()))\n",
    "ind = values.argsort()[::-1][:5]\n",
    "key = key[ind]\n",
    "values = values[ind]\n",
    "\n",
    "values = (values/sum(values))*100\n",
    "values = np.round(values,decimals=2)\n",
    "\n",
    "for i in range(len(key)):\n",
    "    print(key[i],values[i])"
   ]
  },
  {
   "cell_type": "markdown",
   "id": "76a94b2d",
   "metadata": {},
   "source": [
    "## Top Startups"
   ]
  },
  {
   "cell_type": "code",
   "execution_count": 10,
   "id": "3b386e25",
   "metadata": {},
   "outputs": [
    {
     "name": "stdout",
     "output_type": "stream",
     "text": [
      "Paytm\n",
      "Flipkart\n",
      "Ola\n",
      "Snapdeal\n",
      "Oyo\n"
     ]
    }
   ],
   "source": [
    "df=pd.read_csv('startup_funding.csv', encoding='utf-8')\n",
    "\n",
    "\n",
    "df.dropna(subset=['StartupName','AmountInUSD'],inplace=True)\n",
    "df['StartupName'].replace('Flipkart.com','Flipkart',inplace=True)\n",
    "df['StartupName'].replace('Ola Cabs','Ola',inplace=True)\n",
    "df['StartupName'].replace('Olacabs','Ola',inplace=True)\n",
    "df['StartupName'].replace('Ola Cabs','Ola',inplace=True)\n",
    "df['StartupName'].replace('Olacabs','Ola',inplace=True)\n",
    "df['StartupName'].replace('Oyo Rooms','Oyo',inplace=True)\n",
    "df['StartupName'].replace('OyoRooms','Oyo',inplace=True)\n",
    "df['StartupName'].replace('OYO Rooms','Oyo',inplace=True)\n",
    "df['StartupName'].replace('Paytm Marketplace','Paytm',inplace=True)\n",
    "\n",
    "\n",
    "def amount_generator(amt):\n",
    "    amt = amt.split(',')\n",
    "    ans=\"\"\n",
    "    for i in range(len(amt)):\n",
    "        ans = ans+amt[i].strip()\n",
    "    return int(ans)\n",
    "\n",
    "df['AmountInUSD']=df['AmountInUSD'].apply(amount_generator)\n",
    "\n",
    "\n",
    "st=list(df.StartupName)\n",
    "amt=list(df.AmountInUSD)\n",
    "d={}\n",
    "\n",
    "for i in range(len(st)):\n",
    "    d[st[i]]=d.get(st[i],0)+amt[i]\n",
    "    \n",
    "key=list(d.keys())\n",
    "values=list(d.values())\n",
    "\n",
    "\n",
    "key=np.array(key)\n",
    "values=np.array(values)\n",
    "\n",
    "ind=values.argsort()[::-1]\n",
    "ind=ind[:5]\n",
    "\n",
    "key=key[ind]\n",
    "values=values[ind]\n",
    "\n",
    "\n",
    "for i in range(len(key)):\n",
    "    print(key[i])"
   ]
  }
 ],
 "metadata": {
  "kernelspec": {
   "display_name": "Python 3 (ipykernel)",
   "language": "python",
   "name": "python3"
  },
  "language_info": {
   "codemirror_mode": {
    "name": "ipython",
    "version": 3
   },
   "file_extension": ".py",
   "mimetype": "text/x-python",
   "name": "python",
   "nbconvert_exporter": "python",
   "pygments_lexer": "ipython3",
   "version": "3.9.13"
  }
 },
 "nbformat": 4,
 "nbformat_minor": 5
}
